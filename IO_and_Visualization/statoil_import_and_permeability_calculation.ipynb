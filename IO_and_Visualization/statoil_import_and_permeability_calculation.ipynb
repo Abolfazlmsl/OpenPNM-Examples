{
 "cells": [
  {
   "cell_type": "markdown",
   "metadata": {},
   "source": [
    "## Part 1: Import Networks from Statoil Files\n",
    "This example explains how to use the OpenPNM.Utilies.IO.Statoil class to import a network produced by the Maximal Ball network extraction code developed by Martin Blunt's group at Imperial College London. The code is available from him upon request, but they offer a small library of pre-extracted networks on their [website](https://www.imperial.ac.uk/engineering/departments/earth-science/research/research-groups/perm/research/pore-scale-modelling/micro-ct-images-and-networks/)."
   ]
  },
  {
   "cell_type": "code",
   "execution_count": 1,
   "metadata": {},
   "outputs": [
    {
     "name": "stderr",
     "output_type": "stream",
     "text": [
      "C:\\Users\\Jeff\\Anaconda3\\lib\\site-packages\\h5py\\__init__.py:36: FutureWarning: Conversion of the second argument of issubdtype from `float` to `np.floating` is deprecated. In future, it will be treated as `np.float64 == np.dtype(float).type`.\n",
      "  from ._conv import register_converters as _register_converters\n"
     ]
    }
   ],
   "source": [
    "import scipy as sp\n",
    "import openpnm as op"
   ]
  },
  {
   "cell_type": "markdown",
   "metadata": {},
   "source": [
    "The following assumes that the folder containing the 'dat' files is in a directory called 'fixtures' in the same directory as this script.  You can also enter a full path to the files."
   ]
  },
  {
   "cell_type": "code",
   "execution_count": 2,
   "metadata": {},
   "outputs": [],
   "source": [
    "from pathlib import Path\n",
    "path = Path('../fixtures/ICL-Sandstone(Berea)/')\n",
    "project = op.io.Statoil.load(path=path, prefix='Berea')\n",
    "pn = project.network\n",
    "pn.name = 'berea'"
   ]
  },
  {
   "cell_type": "markdown",
   "metadata": {},
   "source": [
    "This import class extracts all the information contained in the 'Statoil' files, such as sizes, locations and connectivity. Note that the ``io`` classes return a ``project`` object, and the network itself can be accessed using the ``network`` attribute.\n",
    "\n",
    "At this point, the network can be visualized in Paraview. A suitable '.vtp' file can be created with:"
   ]
  },
  {
   "cell_type": "code",
   "execution_count": 3,
   "metadata": {},
   "outputs": [],
   "source": [
    "project.export_data(network=pn, filename='imported_statoil')"
   ]
  },
  {
   "cell_type": "markdown",
   "metadata": {},
   "source": [
    "The resulting network is shown below:\n",
    "\n",
    "![](http://i.imgur.com/771T36M.png)"
   ]
  },
  {
   "cell_type": "markdown",
   "metadata": {},
   "source": [
    "### Clean up network topology\n",
    "\n",
    "Although it's not clear in the network image, there are a number of isolated and disconnected pores in the network.  These are either naturally part of the sandstone, or artifacts of the Maximal Ball algorithm.  In any event, these must be removed before proceeding since they cause problems for the matrix solver.  The easiest way to find these is to use the ```check_network_health``` function on the network object.  This will return a dictionary with several key attributes, including a list of which pores are isolated. These can then be trimmed using the ``trim`` function in the ``topotools`` module."
   ]
  },
  {
   "cell_type": "code",
   "execution_count": 4,
   "metadata": {},
   "outputs": [
    {
     "name": "stdout",
     "output_type": "stream",
     "text": [
      "Number of pores before trimming:  6298\n",
      "Number of pores after trimming:  6004\n"
     ]
    }
   ],
   "source": [
    "print('Number of pores before trimming: ', pn.Np)\n",
    "h = pn.check_network_health()\n",
    "op.topotools.trim(network=pn, pores=h['trim_pores'])\n",
    "print('Number of pores after trimming: ', pn.Np)"
   ]
  },
  {
   "cell_type": "markdown",
   "metadata": {},
   "source": [
    "### Dealing with Inlet and Outlet Pores\n",
    "When importing Statoil networks, OpenPNM must perform some 'optimizations' to make the network compatible.  The main problem is that the original network contains a large number of throats connecting actual internal pores to fictitious 'reservoir' pores.  OpenPNM strips away all these throats since 'headless throats' break the graph theory representation.  OpenPNM then labels the real internal pores as either 'inlet' or 'outlet' if they were connected to one of these fictitious reservoirs.  \n",
    "\n",
    "It is fairly simple to add a new pores to each end of the domain and stitch tehm to the internal pores labelled 'inlet' and 'outlet', but this introduces a subsequent complication that the new pores don't have any geometry properties.  For this example, we will not add boundary pores, but just the pores on the inlet and outlet faces.  "
   ]
  },
  {
   "cell_type": "markdown",
   "metadata": {},
   "source": [
    "## Part 2: Calculating Permeability of the Network\n",
    "\n",
    "### Setup Geometry, Phase, and Physics Objects\n",
    "\n",
    "In OpenPNM 2+ it is optional to define Geometry and Physics objects (These are really only necessary for simulations with diverse geometrical properties in different regions, resulting in different physical processes in each region, such as multiscale networks for instance).  It is still necessary to define **Phase** objects:"
   ]
  },
  {
   "cell_type": "code",
   "execution_count": 5,
   "metadata": {},
   "outputs": [],
   "source": [
    "water = op.phases.Water(network=pn)"
   ]
  },
  {
   "cell_type": "markdown",
   "metadata": {},
   "source": [
    "Also, we must add a few geometrical properties that were not included in the extracted network:"
   ]
  },
  {
   "cell_type": "code",
   "execution_count": 6,
   "metadata": {},
   "outputs": [],
   "source": [
    "pn['pore.diameter'] = 2*pn['pore.radius']\n",
    "pn['throat.diameter'] = 2*pn['throat.radius']\n",
    "pn.add_model(propname='pore.area',\n",
    "             model=op.models.geometry.pore_area.sphere)\n",
    "pn.add_model(propname='throat.area',\n",
    "             model=op.models.geometry.throat_area.cylinder)"
   ]
  },
  {
   "cell_type": "markdown",
   "metadata": {},
   "source": [
    "### Apply Pore-Scale Models\n",
    "\n",
    "We must add the hagen-poiseuille model for calculating the conductance.  In OpenPNM 2+ it is possible to add Physics models to Phase objects, which is often simpler than than applying the same model to multiple Physics."
   ]
  },
  {
   "cell_type": "code",
   "execution_count": 7,
   "metadata": {},
   "outputs": [],
   "source": [
    "water.add_model(propname='throat.hydraulic_conductance',\n",
    "                model=op.models.physics.hydraulic_conductance.hagen_poiseuille)"
   ]
  },
  {
   "cell_type": "markdown",
   "metadata": {},
   "source": [
    "Recall that boundary pores and throats had no geometrical properties associated with them, so the   hydraulic conductances of boundary throats will be undefined (filled with NaNs):\n"
   ]
  },
  {
   "cell_type": "code",
   "execution_count": 8,
   "metadata": {},
   "outputs": [
    {
     "name": "stdout",
     "output_type": "stream",
     "text": [
      "[3.11794440e-13 1.18780711e-12 2.44420114e-13 ... 2.80503466e-11\n",
      " 2.16232529e-11 3.70909786e-11]\n"
     ]
    }
   ],
   "source": [
    "print(water['throat.hydraulic_conductance'])"
   ]
  },
  {
   "cell_type": "markdown",
   "metadata": {},
   "source": [
    "### Run StokesFlow Algorithm\n",
    "Finally, we can create a **StokesFlow** object to run some fluid flow simulations:"
   ]
  },
  {
   "cell_type": "code",
   "execution_count": 9,
   "metadata": {},
   "outputs": [
    {
     "name": "stdout",
     "output_type": "stream",
     "text": [
      "――――――――――――――――――――――――――――――――――――――――――――――――――――――――――――――――――――――――――――――――\n",
      "Running ReactiveTransport\n",
      "Tolerance not met: 142387023616295.0\n",
      "Solution converged: 0.0\n"
     ]
    }
   ],
   "source": [
    "flow = op.algorithms.StokesFlow(network=pn, phase=water)\n",
    "flow.set_dirichlet_BC(pores=pn.pores('inlets'), values=200000)\n",
    "flow.set_dirichlet_BC(pores=pn.pores('outlets'), values=100000)\n",
    "flow.run()"
   ]
  },
  {
   "cell_type": "markdown",
   "metadata": {},
   "source": [
    "The resulting pressure field can be visualized in Paraview, giving the following:\n",
    "\n",
    "![](https://i.imgur.com/AIK6FbJ.png)"
   ]
  },
  {
   "cell_type": "markdown",
   "metadata": {},
   "source": [
    "### Determination of Permeability Coefficient\n",
    "\n",
    "The way to calculate K is the determine each of the values in Darcy's law manually and solve for K, such that $$ K = \\frac{Q\\mu L} {\\Delta P A} $$"
   ]
  },
  {
   "cell_type": "code",
   "execution_count": 10,
   "metadata": {},
   "outputs": [
    {
     "name": "stdout",
     "output_type": "stream",
     "text": [
      "[1.96517979e-12]\n"
     ]
    }
   ],
   "source": [
    "# Get the average value of the fluid viscosity\n",
    "mu = sp.mean(water['pore.viscosity'])\n",
    "# Specify a pressure difference (in Pa)\n",
    "delta_P = 100000\n",
    "# Using the rate method of the StokesFlow algorithm\n",
    "Q = sp.absolute(flow.rate(pores=pn.pores('inlets')))\n",
    "# Because we know the inlets and outlets are at x=0 and x=X\n",
    "Lx = sp.amax(pn['pore.coords'][:, 0]) - sp.amin(pn['pore.coords'][:, 0])\n",
    "A = Lx*Lx  # Since the network is cubic Lx = Ly = Lz\n",
    "K = Q*mu*Lx/(delta_P*A)\n",
    "print(K)"
   ]
  },
  {
   "cell_type": "markdown",
   "metadata": {},
   "source": [
    "Using this approach the K value is 1.97 mD, which is very close to the value of 1.1 mD reported by the Imperial Team on their network.  The difference is due to the different models used to calculate hydraulic conductance."
   ]
  }
 ],
 "metadata": {
  "kernelspec": {
   "display_name": "Python 3",
   "language": "python",
   "name": "python3"
  },
  "language_info": {
   "codemirror_mode": {
    "name": "ipython",
    "version": 3
   },
   "file_extension": ".py",
   "mimetype": "text/x-python",
   "name": "python",
   "nbconvert_exporter": "python",
   "pygments_lexer": "ipython3",
   "version": "3.6.4"
  }
 },
 "nbformat": 4,
 "nbformat_minor": 2
}
